{
 "cells": [
  {
   "cell_type": "code",
   "execution_count": 5,
   "id": "6bb64ed9",
   "metadata": {},
   "outputs": [],
   "source": [
    "import os\n",
    "import pandas as pd"
   ]
  },
  {
   "cell_type": "markdown",
   "id": "55da0cfc",
   "metadata": {},
   "source": [
    "From the website https://www.cooperativepatentclassification.org/cpcSchemeAndDefinitions/bulk, I downloaded the CPC title list.\n",
    "\n",
    "It comes in a text file for each category."
   ]
  },
  {
   "cell_type": "code",
   "execution_count": 6,
   "id": "2807a651",
   "metadata": {},
   "outputs": [
    {
     "name": "stdout",
     "output_type": "stream",
     "text": [
      "['cpc-section-A_20220501.txt', 'cpc-section-B_20220501.txt', 'cpc-section-C_20220501.txt', 'cpc-section-D_20220501.txt', 'cpc-section-E_20220501.txt', 'cpc-section-F_20220501.txt', 'cpc-section-G_20220501.txt', 'cpc-section-H_20220501.txt', 'cpc-section-Y_20220501.txt']\n"
     ]
    }
   ],
   "source": [
    "f_path = \"../input/CPC_Title_list/\"\n",
    "f = []\n",
    "for (dirpath, dirnames, filenames) in os.walk(f_path):\n",
    "    f.extend(filenames)\n",
    "    \n",
    "print(f)"
   ]
  },
  {
   "cell_type": "code",
   "execution_count": 9,
   "id": "560b6c3a",
   "metadata": {},
   "outputs": [
    {
     "data": {
      "text/html": [
       "<div>\n",
       "<style scoped>\n",
       "    .dataframe tbody tr th:only-of-type {\n",
       "        vertical-align: middle;\n",
       "    }\n",
       "\n",
       "    .dataframe tbody tr th {\n",
       "        vertical-align: top;\n",
       "    }\n",
       "\n",
       "    .dataframe thead th {\n",
       "        text-align: right;\n",
       "    }\n",
       "</style>\n",
       "<table border=\"1\" class=\"dataframe\">\n",
       "  <thead>\n",
       "    <tr style=\"text-align: right;\">\n",
       "      <th></th>\n",
       "      <th>id</th>\n",
       "      <th>anchor</th>\n",
       "      <th>target</th>\n",
       "      <th>context</th>\n",
       "      <th>score</th>\n",
       "      <th>kfold</th>\n",
       "    </tr>\n",
       "  </thead>\n",
       "  <tbody>\n",
       "    <tr>\n",
       "      <th>0</th>\n",
       "      <td>a5d73ee843b04779</td>\n",
       "      <td>triethylammonium salt</td>\n",
       "      <td>desired product</td>\n",
       "      <td>C07</td>\n",
       "      <td>0.25</td>\n",
       "      <td>0</td>\n",
       "    </tr>\n",
       "    <tr>\n",
       "      <th>1</th>\n",
       "      <td>018aaf30c323687f</td>\n",
       "      <td>gate insulator film</td>\n",
       "      <td>film oxide insulating layer</td>\n",
       "      <td>H01</td>\n",
       "      <td>0.50</td>\n",
       "      <td>0</td>\n",
       "    </tr>\n",
       "    <tr>\n",
       "      <th>2</th>\n",
       "      <td>0fe44dd61e389881</td>\n",
       "      <td>retinal tissue</td>\n",
       "      <td>patient</td>\n",
       "      <td>A61</td>\n",
       "      <td>0.00</td>\n",
       "      <td>0</td>\n",
       "    </tr>\n",
       "    <tr>\n",
       "      <th>3</th>\n",
       "      <td>80fbb8814987103f</td>\n",
       "      <td>base fuels</td>\n",
       "      <td>fuel generally</td>\n",
       "      <td>C10</td>\n",
       "      <td>0.50</td>\n",
       "      <td>0</td>\n",
       "    </tr>\n",
       "    <tr>\n",
       "      <th>4</th>\n",
       "      <td>f3a23414e228563d</td>\n",
       "      <td>electromagnetic input</td>\n",
       "      <td>received frequency</td>\n",
       "      <td>G01</td>\n",
       "      <td>0.50</td>\n",
       "      <td>0</td>\n",
       "    </tr>\n",
       "  </tbody>\n",
       "</table>\n",
       "</div>"
      ],
      "text/plain": [
       "                 id                 anchor                       target  \\\n",
       "0  a5d73ee843b04779  triethylammonium salt              desired product   \n",
       "1  018aaf30c323687f    gate insulator film  film oxide insulating layer   \n",
       "2  0fe44dd61e389881         retinal tissue                      patient   \n",
       "3  80fbb8814987103f             base fuels               fuel generally   \n",
       "4  f3a23414e228563d  electromagnetic input           received frequency   \n",
       "\n",
       "  context  score  kfold  \n",
       "0     C07   0.25      0  \n",
       "1     H01   0.50      0  \n",
       "2     A61   0.00      0  \n",
       "3     C10   0.50      0  \n",
       "4     G01   0.50      0  "
      ]
     },
     "execution_count": 9,
     "metadata": {},
     "output_type": "execute_result"
    }
   ],
   "source": [
    "df = pd.read_csv('../input/train_folds.csv')\n",
    "df.head()"
   ]
  },
  {
   "cell_type": "code",
   "execution_count": 12,
   "id": "7886a4ac",
   "metadata": {},
   "outputs": [
    {
     "name": "stdout",
     "output_type": "stream",
     "text": [
      "106\n"
     ]
    }
   ],
   "source": [
    "context_list = df['context'].unique()\n",
    "print(len(context_list))"
   ]
  },
  {
   "cell_type": "code",
   "execution_count": 16,
   "id": "21b10a7c",
   "metadata": {},
   "outputs": [
    {
     "data": {
      "text/html": [
       "<div>\n",
       "<style scoped>\n",
       "    .dataframe tbody tr th:only-of-type {\n",
       "        vertical-align: middle;\n",
       "    }\n",
       "\n",
       "    .dataframe tbody tr th {\n",
       "        vertical-align: top;\n",
       "    }\n",
       "\n",
       "    .dataframe thead th {\n",
       "        text-align: right;\n",
       "    }\n",
       "</style>\n",
       "<table border=\"1\" class=\"dataframe\">\n",
       "  <thead>\n",
       "    <tr style=\"text-align: right;\">\n",
       "      <th></th>\n",
       "      <th>cpc</th>\n",
       "    </tr>\n",
       "  </thead>\n",
       "  <tbody>\n",
       "    <tr>\n",
       "      <th>0</th>\n",
       "      <td>C07</td>\n",
       "    </tr>\n",
       "    <tr>\n",
       "      <th>1</th>\n",
       "      <td>H01</td>\n",
       "    </tr>\n",
       "    <tr>\n",
       "      <th>2</th>\n",
       "      <td>A61</td>\n",
       "    </tr>\n",
       "    <tr>\n",
       "      <th>3</th>\n",
       "      <td>C10</td>\n",
       "    </tr>\n",
       "    <tr>\n",
       "      <th>4</th>\n",
       "      <td>G01</td>\n",
       "    </tr>\n",
       "  </tbody>\n",
       "</table>\n",
       "</div>"
      ],
      "text/plain": [
       "   cpc\n",
       "0  C07\n",
       "1  H01\n",
       "2  A61\n",
       "3  C10\n",
       "4  G01"
      ]
     },
     "execution_count": 16,
     "metadata": {},
     "output_type": "execute_result"
    }
   ],
   "source": [
    "context_df = pd.DataFrame(context_list, columns=['cpc'])\n",
    "context_df.head()"
   ]
  },
  {
   "cell_type": "code",
   "execution_count": 32,
   "id": "af372c1b",
   "metadata": {},
   "outputs": [
    {
     "data": {
      "text/html": [
       "<div>\n",
       "<style scoped>\n",
       "    .dataframe tbody tr th:only-of-type {\n",
       "        vertical-align: middle;\n",
       "    }\n",
       "\n",
       "    .dataframe tbody tr th {\n",
       "        vertical-align: top;\n",
       "    }\n",
       "\n",
       "    .dataframe thead th {\n",
       "        text-align: right;\n",
       "    }\n",
       "</style>\n",
       "<table border=\"1\" class=\"dataframe\">\n",
       "  <thead>\n",
       "    <tr style=\"text-align: right;\">\n",
       "      <th></th>\n",
       "      <th>cpc</th>\n",
       "      <th>section</th>\n",
       "      <th>class</th>\n",
       "      <th>section_code</th>\n",
       "      <th>class_code</th>\n",
       "    </tr>\n",
       "  </thead>\n",
       "  <tbody>\n",
       "    <tr>\n",
       "      <th>0</th>\n",
       "      <td>C07</td>\n",
       "      <td>C</td>\n",
       "      <td>07</td>\n",
       "      <td>C</td>\n",
       "      <td>07</td>\n",
       "    </tr>\n",
       "    <tr>\n",
       "      <th>1</th>\n",
       "      <td>H01</td>\n",
       "      <td>H</td>\n",
       "      <td>01</td>\n",
       "      <td>H</td>\n",
       "      <td>01</td>\n",
       "    </tr>\n",
       "    <tr>\n",
       "      <th>2</th>\n",
       "      <td>A61</td>\n",
       "      <td>A</td>\n",
       "      <td>61</td>\n",
       "      <td>A</td>\n",
       "      <td>61</td>\n",
       "    </tr>\n",
       "    <tr>\n",
       "      <th>3</th>\n",
       "      <td>C10</td>\n",
       "      <td>C</td>\n",
       "      <td>10</td>\n",
       "      <td>C</td>\n",
       "      <td>10</td>\n",
       "    </tr>\n",
       "    <tr>\n",
       "      <th>4</th>\n",
       "      <td>G01</td>\n",
       "      <td>G</td>\n",
       "      <td>01</td>\n",
       "      <td>G</td>\n",
       "      <td>01</td>\n",
       "    </tr>\n",
       "  </tbody>\n",
       "</table>\n",
       "</div>"
      ],
      "text/plain": [
       "   cpc section class section_code class_code\n",
       "0  C07       C    07            C         07\n",
       "1  H01       H    01            H         01\n",
       "2  A61       A    61            A         61\n",
       "3  C10       C    10            C         10\n",
       "4  G01       G    01            G         01"
      ]
     },
     "execution_count": 32,
     "metadata": {},
     "output_type": "execute_result"
    }
   ],
   "source": [
    "context_df['section_code'] = context_df['cpc'].str[:1]\n",
    "context_df['class_code'] = context_df['cpc'].str[1:3]\n",
    "\n",
    "context_df.head()"
   ]
  },
  {
   "cell_type": "code",
   "execution_count": 23,
   "id": "ef0d8fa7",
   "metadata": {},
   "outputs": [
    {
     "data": {
      "text/plain": [
       "array(['C', 'H', 'A', 'G', 'F', 'B', 'E', 'D'], dtype=object)"
      ]
     },
     "execution_count": 23,
     "metadata": {},
     "output_type": "execute_result"
    }
   ],
   "source": [
    "section_code_list = context_df['section_code'].unique()\n",
    "section_code_list"
   ]
  },
  {
   "cell_type": "code",
   "execution_count": 40,
   "id": "9d642cdd",
   "metadata": {
    "scrolled": true
   },
   "outputs": [
    {
     "name": "stdout",
     "output_type": "stream",
     "text": [
      "{'C': 'CHEMISTRY; METALLURGY', 'H': 'ELECTRICITY', 'A': 'HUMAN NECESSITIES', 'G': 'PHYSICS', 'F': 'MECHANICAL ENGINEERING; LIGHTING; HEATING; WEAPONS; BLASTING', 'B': 'PERFORMING OPERATIONS; TRANSPORTING', 'E': 'FIXED CONSTRUCTIONS', 'D': 'TEXTILES; PAPER'}\n"
     ]
    }
   ],
   "source": [
    "# Create a dictionary of section names\n",
    "d_section={}\n",
    "\n",
    "for cd in section_code_list:\n",
    "    cpc_df = pd.read_csv(os.path.join(f_path, f'cpc-section-{cd}_20220501.txt'), sep='\\t', header=None, \n",
    "                         names=['cpc', 'subgroup', 'desc'])\n",
    "    section_text = cpc_df['desc'][cpc_df['cpc'] == cd].values[0]\n",
    "    d_section[cd] = section_text\n",
    "print(d_section)"
   ]
  },
  {
   "cell_type": "code",
   "execution_count": 44,
   "id": "c94038a8",
   "metadata": {},
   "outputs": [
    {
     "name": "stdout",
     "output_type": "stream",
     "text": [
      "{'C07': 'ORGANIC CHEMISTRY', 'C10': 'PETROLEUM, GAS OR COKE INDUSTRIES; TECHNICAL GASES CONTAINING CARBON MONOXIDE; FUELS; LUBRICANTS; PEAT', 'C03': 'GLASS; MINERAL OR SLAG WOOL', 'C23': 'COATING METALLIC MATERIAL; COATING MATERIAL WITH METALLIC MATERIAL; CHEMICAL SURFACE TREATMENT; DIFFUSION TREATMENT OF METALLIC MATERIAL; COATING BY VACUUM EVAPORATION, BY SPUTTERING, BY ION IMPLANTATION OR BY CHEMICAL VAPOUR DEPOSITION, IN GENERAL; INHIBITING CORROSION OF METALLIC MATERIAL OR INCRUSTATION IN GENERAL', 'C11': 'ANIMAL OR VEGETABLE OILS, FATS, FATTY SUBSTANCES OR WAXES; FATTY ACIDS THEREFROM; DETERGENTS; CANDLES', 'C01': 'INORGANIC CHEMISTRY', 'C09': 'DYES; PAINTS; POLISHES; NATURAL RESINS; ADHESIVES; COMPOSITIONS NOT OTHERWISE PROVIDED FOR; APPLICATIONS OF MATERIALS NOT OTHERWISE PROVIDED FOR', 'C12': 'BIOCHEMISTRY; BEER; SPIRITS; WINE; VINEGAR; MICROBIOLOGY; ENZYMOLOGY; MUTATION OR GENETIC ENGINEERING', 'C08': 'ORGANIC MACROMOLECULAR COMPOUNDS; THEIR PREPARATION OR CHEMICAL WORKING-UP; COMPOSITIONS BASED THEREON', 'C04': 'CEMENTS; CONCRETE; ARTIFICIAL STONE; CERAMICS; REFRACTORIES', 'C21': 'METALLURGY OF IRON', 'C22': 'METALLURGY; FERROUS OR NON-FERROUS ALLOYS; TREATMENT OF ALLOYS OR NON-FERROUS METALS', 'C25': 'ELECTROLYTIC OR ELECTROPHORETIC PROCESSES; APPARATUS THEREFOR', 'C02': 'TREATMENT OF WATER, WASTE WATER, SEWAGE, OR SLUDGE', 'C13': 'SUGAR INDUSTRY', 'C06': 'EXPLOSIVES; MATCHES', 'C14': 'SKINS; HIDES; PELTS; LEATHER', 'H01': 'BASIC ELECTRIC ELEMENTS', 'H03': 'BASIC ELECTRONIC CIRCUITRY', 'H02': 'GENERATION; CONVERSION OR DISTRIBUTION OF ELECTRIC POWER', 'H04': 'ELECTRIC COMMUNICATION TECHNIQUE', 'H05': 'ELECTRIC TECHNIQUES NOT OTHERWISE PROVIDED FOR', 'A61': 'MEDICAL OR VETERINARY SCIENCE; HYGIENE', 'A47': 'FURNITURE; DOMESTIC ARTICLES OR APPLIANCES; COFFEE MILLS; SPICE MILLS; SUCTION CLEANERS IN GENERAL', 'A43': 'FOOTWEAR', 'A21': 'BAKING; EDIBLE DOUGHS', 'A41': 'WEARING APPAREL', 'A44': 'HABERDASHERY; JEWELLERY', 'A01': 'AGRICULTURE; FORESTRY; ANIMAL HUSBANDRY; HUNTING; TRAPPING; FISHING', 'A24': \"TOBACCO; CIGARS; CIGARETTES; SIMULATED SMOKING DEVICES; SMOKERS' REQUISITES\", 'A23': 'FOODS OR FOODSTUFFS; TREATMENT THEREOF, NOT COVERED BY OTHER CLASSES', 'A63': 'SPORTS; GAMES; AMUSEMENTS', 'A46': 'BRUSHWARE', 'A45': 'HAND OR TRAVELLING ARTICLES', 'A62': 'LIFE-SAVING; FIRE-FIGHTING', 'A22': 'BUTCHERING; MEAT TREATMENT; PROCESSING POULTRY OR FISH', 'G01': 'MEASURING; TESTING', 'G04': 'HOROLOGY', 'G11': 'INFORMATION STORAGE', 'G09': 'EDUCATION; CRYPTOGRAPHY; DISPLAY; ADVERTISING; SEALS', 'G02': 'OPTICS', 'G07': 'CHECKING-DEVICES', 'G06': 'COMPUTING; CALCULATING; COUNTING', 'G05': 'CONTROLLING; REGULATING', 'G03': 'PHOTOGRAPHY; CINEMATOGRAPHY; ANALOGOUS TECHNIQUES USING WAVES OTHER THAN OPTICAL WAVES; ELECTROGRAPHY; HOLOGRAPHY', 'G10': 'MUSICAL INSTRUMENTS; ACOUSTICS', 'G21': 'NUCLEAR PHYSICS; NUCLEAR ENGINEERING', 'G08': 'SIGNALLING', 'G16': 'INFORMATION AND COMMUNICATION TECHNOLOGY [ICT] SPECIALLY ADAPTED FOR SPECIFIC APPLICATION FIELDS', 'F22': 'STEAM GENERATION', 'F03': 'MACHINES OR ENGINES FOR LIQUIDS; WIND, SPRING, OR WEIGHT MOTORS; PRODUCING MECHANICAL POWER OR A REACTIVE PROPULSIVE THRUST, NOT OTHERWISE PROVIDED FOR', 'F24': 'HEATING; RANGES; VENTILATING', 'F02': 'COMBUSTION ENGINES; HOT-GAS OR COMBUSTION-PRODUCT ENGINE PLANTS', 'F16': 'ENGINEERING ELEMENTS AND UNITS; GENERAL MEASURES FOR PRODUCING AND MAINTAINING EFFECTIVE FUNCTIONING OF MACHINES OR INSTALLATIONS; THERMAL INSULATION IN GENERAL', 'F23': 'COMBUSTION APPARATUS; COMBUSTION PROCESSES', 'F04': 'POSITIVE - DISPLACEMENT MACHINES FOR LIQUIDS; PUMPS FOR LIQUIDS OR ELASTIC FLUIDS', 'F01': 'MACHINES OR ENGINES IN GENERAL; ENGINE PLANTS IN GENERAL; STEAM ENGINES', 'F28': 'HEAT EXCHANGE IN GENERAL', 'F21': 'LIGHTING', 'F41': 'WEAPONS', 'F26': 'DRYING', 'F27': 'FURNACES; KILNS; OVENS; RETORTS', 'F17': 'STORING OR DISTRIBUTING GASES OR LIQUIDS', 'F15': 'FLUID-PRESSURE ACTUATORS; HYDRAULICS OR PNEUMATICS IN GENERAL', 'F25': 'REFRIGERATION OR COOLING; COMBINED HEATING AND REFRIGERATION SYSTEMS; HEAT PUMP SYSTEMS; MANUFACTURE OR STORAGE OF ICE; LIQUEFACTION SOLIDIFICATION OF GASES', 'F42': 'AMMUNITION; BLASTING', 'B22': 'CASTING; POWDER METALLURGY', 'B29': 'WORKING OF PLASTICS; WORKING OF SUBSTANCES IN A PLASTIC STATE IN GENERAL', 'B23': 'MACHINE TOOLS; METAL-WORKING NOT OTHERWISE PROVIDED FOR', 'B01': 'PHYSICAL OR CHEMICAL PROCESSES OR APPARATUS IN GENERAL', 'B63': 'SHIPS OR OTHER WATERBORNE VESSELS; RELATED EQUIPMENT', 'B65': 'CONVEYING; PACKING; STORING; HANDLING THIN OR FILAMENTARY MATERIAL', 'B60': 'VEHICLES IN GENERAL', 'B41': 'PRINTING; LINING MACHINES; TYPEWRITERS; STAMPS', 'B62': 'LAND VEHICLES FOR TRAVELLING OTHERWISE THAN ON RAILS', 'B67': 'OPENING, CLOSING {OR CLEANING} BOTTLES, JARS OR SIMILAR CONTAINERS; LIQUID HANDLING', 'B44': 'DECORATIVE ARTS', 'B31': 'MAKING ARTICLES OF PAPER, CARDBOARD OR MATERIAL WORKED IN A MANNER ANALOGOUS TO PAPER; WORKING PAPER, CARDBOARD OR MATERIAL WORKED IN A MANNER ANALOGOUS TO PAPER', 'B61': 'RAILWAYS', 'B24': 'GRINDING; POLISHING', 'B64': 'AIRCRAFT; AVIATION; COSMONAUTICS', 'B21': 'MECHANICAL METAL-WORKING WITHOUT ESSENTIALLY REMOVING MATERIAL; PUNCHING METAL', 'B05': 'SPRAYING OR ATOMISING IN GENERAL; APPLYING FLUENT MATERIALS TO SURFACES, IN GENERAL', 'B07': 'SEPARATING SOLIDS FROM SOLIDS; SORTING', 'B32': 'LAYERED PRODUCTS', 'B27': 'WORKING OR PRESERVING WOOD OR SIMILAR MATERIAL; NAILING OR STAPLING MACHINES IN GENERAL', 'B02': 'CRUSHING, PULVERISING, OR DISINTEGRATING; PREPARATORY TREATMENT OF GRAIN FOR MILLING', 'B28': 'WORKING CEMENT, CLAY, OR STONE', 'B03': 'SEPARATION OF SOLID MATERIALS USING LIQUIDS OR USING PNEUMATIC TABLES OR JIGS; MAGNETIC OR ELECTROSTATIC SEPARATION OF SOLID MATERIALS FROM SOLID MATERIALS OR FLUIDS; SEPARATION BY HIGH-VOLTAGE ELECTRIC FIELDS', 'B25': 'HAND TOOLS; PORTABLE POWER-DRIVEN TOOLS; MANIPULATORS', 'B08': 'CLEANING', 'B66': 'HOISTING; LIFTING; HAULING', 'B81': 'MICROSTRUCTURAL TECHNOLOGY', 'E04': 'BUILDING', 'E06': 'DOORS, WINDOWS, SHUTTERS, OR ROLLER BLINDS IN GENERAL; LADDERS', 'E02': 'HYDRAULIC ENGINEERING; FOUNDATIONS; SOIL SHIFTING', 'E01': 'CONSTRUCTION OF ROADS, RAILWAYS, OR BRIDGES', 'E21': 'EARTH DRILLING; MINING', 'E05': 'LOCKS; KEYS; WINDOW OR DOOR FITTINGS; SAFES', 'E03': 'WATER SUPPLY; SEWERAGE', 'D21': 'PAPER-MAKING; PRODUCTION OF CELLULOSE', 'D01': 'NATURAL OR MAN-MADE THREADS OR FIBRES; SPINNING', 'D06': 'TREATMENT OF TEXTILES OR THE LIKE; LAUNDERING; FLEXIBLE MATERIALS NOT OTHERWISE PROVIDED FOR', 'D04': 'BRAIDING; LACE-MAKING; KNITTING; TRIMMINGS; NON-WOVEN FABRICS', 'D03': 'WEAVING', 'D05': 'SEWING; EMBROIDERING; TUFTING'}\n"
     ]
    }
   ],
   "source": [
    "# Create a dictionary of group names\n",
    "d_group={}\n",
    "\n",
    "for cd in section_code_list:\n",
    "    cpc_df = pd.read_csv(os.path.join(f_path, f'cpc-section-{cd}_20220501.txt'), sep='\\t', header=None, \n",
    "                         names=['cpc', 'subgroup', 'desc'])\n",
    "    \n",
    "    # get list of relevant CPCs for this section\n",
    "    section_cpc_list = context_df['cpc'][context_df['section'] == cd].unique()\n",
    "    \n",
    "    # get definition for each one\n",
    "    for gp in section_cpc_list:\n",
    "        group_text = cpc_df['desc'][cpc_df['cpc'] == gp].values[0]\n",
    "        d_group[gp] = group_text\n",
    "print(d_group)\n"
   ]
  },
  {
   "cell_type": "code",
   "execution_count": 59,
   "id": "22f839cf",
   "metadata": {},
   "outputs": [],
   "source": [
    "# write cpc dictionaries to input files\n",
    "\n",
    "section_df = pd.DataFrame.from_dict(d_section, orient='index').reset_index()\n",
    "section_df = section_df.rename(columns={'index':'section_code', 0:'section_text'})\n",
    "section_df.to_csv('../input/section_lookup_tb.csv', index=False)\n",
    "\n",
    "group_df = pd.DataFrame.from_dict(d_group, orient='index').reset_index()\n",
    "group_df = group_df.rename(columns={'index':'group_code', 0:'group_text'})\n",
    "group_df.to_csv('../input/group_lookup_tb.csv', index=False)"
   ]
  },
  {
   "cell_type": "code",
   "execution_count": null,
   "id": "5b0b5c1b",
   "metadata": {},
   "outputs": [],
   "source": []
  }
 ],
 "metadata": {
  "kernelspec": {
   "display_name": "Python 3 (ipykernel)",
   "language": "python",
   "name": "python3"
  },
  "language_info": {
   "codemirror_mode": {
    "name": "ipython",
    "version": 3
   },
   "file_extension": ".py",
   "mimetype": "text/x-python",
   "name": "python",
   "nbconvert_exporter": "python",
   "pygments_lexer": "ipython3",
   "version": "3.9.7"
  }
 },
 "nbformat": 4,
 "nbformat_minor": 5
}
