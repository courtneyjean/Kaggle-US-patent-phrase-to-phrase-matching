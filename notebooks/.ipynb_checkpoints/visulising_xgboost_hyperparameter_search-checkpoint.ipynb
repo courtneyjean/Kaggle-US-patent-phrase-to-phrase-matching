{
 "cells": [
  {
   "cell_type": "code",
   "execution_count": 1,
   "id": "389236ef",
   "metadata": {},
   "outputs": [],
   "source": [
    "import numpy as numpy\n",
    "import matplotlib.pyplot as plt"
   ]
  },
  {
   "cell_type": "code",
   "execution_count": 2,
   "id": "0c34d9b0",
   "metadata": {},
   "outputs": [],
   "source": [
    "# Hyperparameters\n",
    "LR = [0.01, 0.01, 0.01, 0.06, 0.06, 0.06, 0.1, 0.1, 0.1, 0.2, 0.2, 0.2, 0.3, 0.3, 0.3]\n",
    "MAX_DEPTH = [3, 6, 9, 3, 6, 9, 3, 6, 9, 3, 6, 9, 3, 6, 9,]"
   ]
  },
  {
   "cell_type": "code",
   "execution_count": null,
   "id": "5a6d65fb",
   "metadata": {},
   "outputs": [],
   "source": [
    "PC_Scores = [0.0440,\n",
    "0.1190,\n",
    "0.1872,\n",
    "]"
   ]
  }
 ],
 "metadata": {
  "kernelspec": {
   "display_name": "Python 3 (ipykernel)",
   "language": "python",
   "name": "python3"
  },
  "language_info": {
   "codemirror_mode": {
    "name": "ipython",
    "version": 3
   },
   "file_extension": ".py",
   "mimetype": "text/x-python",
   "name": "python",
   "nbconvert_exporter": "python",
   "pygments_lexer": "ipython3",
   "version": "3.9.7"
  }
 },
 "nbformat": 4,
 "nbformat_minor": 5
}
