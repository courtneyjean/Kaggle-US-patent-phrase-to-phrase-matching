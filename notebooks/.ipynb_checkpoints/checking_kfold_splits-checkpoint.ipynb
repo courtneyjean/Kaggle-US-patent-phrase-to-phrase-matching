{
 "cells": [
  {
   "cell_type": "code",
   "execution_count": 5,
   "id": "28bd3031",
   "metadata": {},
   "outputs": [],
   "source": [
    "import pandas as pd\n",
    "import seaborn as sns"
   ]
  },
  {
   "cell_type": "code",
   "execution_count": 8,
   "id": "4a98ddec",
   "metadata": {},
   "outputs": [
    {
     "data": {
      "text/html": [
       "<div>\n",
       "<style scoped>\n",
       "    .dataframe tbody tr th:only-of-type {\n",
       "        vertical-align: middle;\n",
       "    }\n",
       "\n",
       "    .dataframe tbody tr th {\n",
       "        vertical-align: top;\n",
       "    }\n",
       "\n",
       "    .dataframe thead th {\n",
       "        text-align: right;\n",
       "    }\n",
       "</style>\n",
       "<table border=\"1\" class=\"dataframe\">\n",
       "  <thead>\n",
       "    <tr style=\"text-align: right;\">\n",
       "      <th></th>\n",
       "      <th>id</th>\n",
       "      <th>anchor</th>\n",
       "      <th>target</th>\n",
       "      <th>context</th>\n",
       "      <th>score</th>\n",
       "      <th>kfold</th>\n",
       "    </tr>\n",
       "  </thead>\n",
       "  <tbody>\n",
       "    <tr>\n",
       "      <th>0</th>\n",
       "      <td>a99e5b3b894ed67e</td>\n",
       "      <td>herpes</td>\n",
       "      <td>herpes zoster</td>\n",
       "      <td>A61</td>\n",
       "      <td>0.50</td>\n",
       "      <td>0</td>\n",
       "    </tr>\n",
       "    <tr>\n",
       "      <th>1</th>\n",
       "      <td>9f462af7c1b08a1e</td>\n",
       "      <td>travele in direction</td>\n",
       "      <td>reverberation signals</td>\n",
       "      <td>G01</td>\n",
       "      <td>0.50</td>\n",
       "      <td>0</td>\n",
       "    </tr>\n",
       "    <tr>\n",
       "      <th>2</th>\n",
       "      <td>b0ba3b611472d4f7</td>\n",
       "      <td>overall weight</td>\n",
       "      <td>total weight</td>\n",
       "      <td>C11</td>\n",
       "      <td>0.75</td>\n",
       "      <td>0</td>\n",
       "    </tr>\n",
       "    <tr>\n",
       "      <th>3</th>\n",
       "      <td>c9bcf9a2c40b47a5</td>\n",
       "      <td>reduction factor</td>\n",
       "      <td>increasing by factor of</td>\n",
       "      <td>H04</td>\n",
       "      <td>0.25</td>\n",
       "      <td>0</td>\n",
       "    </tr>\n",
       "    <tr>\n",
       "      <th>4</th>\n",
       "      <td>35fea77651b0c009</td>\n",
       "      <td>average pore size</td>\n",
       "      <td>average diameter</td>\n",
       "      <td>C04</td>\n",
       "      <td>0.25</td>\n",
       "      <td>0</td>\n",
       "    </tr>\n",
       "  </tbody>\n",
       "</table>\n",
       "</div>"
      ],
      "text/plain": [
       "                 id                anchor                   target context  \\\n",
       "0  a99e5b3b894ed67e                herpes            herpes zoster     A61   \n",
       "1  9f462af7c1b08a1e  travele in direction    reverberation signals     G01   \n",
       "2  b0ba3b611472d4f7        overall weight             total weight     C11   \n",
       "3  c9bcf9a2c40b47a5      reduction factor  increasing by factor of     H04   \n",
       "4  35fea77651b0c009     average pore size         average diameter     C04   \n",
       "\n",
       "   score  kfold  \n",
       "0   0.50      0  \n",
       "1   0.50      0  \n",
       "2   0.75      0  \n",
       "3   0.25      0  \n",
       "4   0.25      0  "
      ]
     },
     "execution_count": 8,
     "metadata": {},
     "output_type": "execute_result"
    }
   ],
   "source": [
    "df = pd.read_csv(\"../input/train_folds.csv\")\n",
    "df.head()"
   ]
  },
  {
   "cell_type": "code",
   "execution_count": 24,
   "id": "02a3d7f9",
   "metadata": {},
   "outputs": [
    {
     "data": {
      "text/plain": [
       "<seaborn.axisgrid.FacetGrid at 0x21b481afd30>"
      ]
     },
     "execution_count": 24,
     "metadata": {},
     "output_type": "execute_result"
    },
    {
     "data": {
      "image/png": "[encoded data removed]",
      "text/plain": [
       "<Figure size 1800x360 with 5 Axes>"
      ]
     },
     "metadata": {},
     "output_type": "display_data"
    }
   ],
   "source": [
    "sns.set_theme(style=\"darkgrid\")\n",
    "sns.displot(df, x=\"kfold\", col=\"score\")"
   ]
  },
  {
   "cell_type": "code",
   "execution_count": null,
   "id": "f9706332",
   "metadata": {},
   "outputs": [],
   "source": []
  }
 ],
 "metadata": {
  "kernelspec": {
   "display_name": "Python 3 (ipykernel)",
   "language": "python",
   "name": "python3"
  },
  "language_info": {
   "codemirror_mode": {
    "name": "ipython",
    "version": 3
   },
   "file_extension": ".py",
   "mimetype": "text/x-python",
   "name": "python",
   "nbconvert_exporter": "python",
   "pygments_lexer": "ipython3",
   "version": "3.9.7"
  }
 },
 "nbformat": 4,
 "nbformat_minor": 5
}
